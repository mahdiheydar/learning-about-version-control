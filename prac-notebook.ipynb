{
 "cells": [
  {
   "cell_type": "markdown",
   "id": "24c9d292-b828-4861-953a-93b7031ce5e4",
   "metadata": {},
   "source": [
    "### This is a practice notebook"
   ]
  },
  {
   "cell_type": "code",
   "execution_count": 1,
   "id": "f63fb838-d893-46cc-b579-7d0a196b6fef",
   "metadata": {},
   "outputs": [
    {
     "data": {
      "text/plain": [
       "4"
      ]
     },
     "execution_count": 1,
     "metadata": {},
     "output_type": "execute_result"
    }
   ],
   "source": [
    "2 + 2"
   ]
  },
  {
   "cell_type": "code",
   "execution_count": null,
   "id": "9583f682-a88c-4a73-a7ab-6b4c0cb64c3e",
   "metadata": {},
   "outputs": [],
   "source": []
  }
 ],
 "metadata": {
  "kernelspec": {
   "display_name": "Python 3 (ipykernel)",
   "language": "python",
   "name": "python3"
  },
  "language_info": {
   "codemirror_mode": {
    "name": "ipython",
    "version": 3
   },
   "file_extension": ".py",
   "mimetype": "text/x-python",
   "name": "python",
   "nbconvert_exporter": "python",
   "pygments_lexer": "ipython3",
   "version": "3.9.5"
  }
 },
 "nbformat": 4,
 "nbformat_minor": 5
}
